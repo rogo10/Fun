{
 "cells": [
  {
   "cell_type": "code",
   "execution_count": 1,
   "metadata": {
    "ExecuteTime": {
     "end_time": "2020-03-04T18:59:47.050557Z",
     "start_time": "2020-03-04T18:59:45.395985Z"
    }
   },
   "outputs": [],
   "source": [
    "import numpy as np\n",
    "import matplotlib.pyplot as plt\n",
    "from sklearn import datasets\n",
    "from sklearn.preprocessing import scale"
   ]
  },
  {
   "cell_type": "code",
   "execution_count": 2,
   "metadata": {
    "ExecuteTime": {
     "end_time": "2020-03-04T18:59:47.057539Z",
     "start_time": "2020-03-04T18:59:47.052552Z"
    }
   },
   "outputs": [],
   "source": [
    "#sigmoid definition\n",
    "\n",
    "def sigm(x,deriv=False):\n",
    "    if(deriv==True):\n",
    "        return x*(1-x)\n",
    "    return 1/(1+np.exp(-x))"
   ]
  },
  {
   "cell_type": "code",
   "execution_count": 3,
   "metadata": {
    "ExecuteTime": {
     "end_time": "2020-03-04T18:59:47.088457Z",
     "start_time": "2020-03-04T18:59:47.061528Z"
    }
   },
   "outputs": [],
   "source": [
    "##my neural network function\n",
    "\n",
    "def neural_network(my_input,target,y,hidden_layer_size,gam=0.001,max_iter=10000,verbose=False):    \n",
    "    \n",
    "    gam = gam\n",
    "    \n",
    "    \n",
    "    # takes in columns of input and output to make correctly shaped matrices\n",
    "\n",
    "    my_input_shape = my_input.shape[1]\n",
    "    target_shape = target.shape[1]\n",
    "    \n",
    "    #alias\n",
    "    \n",
    "    hls = hidden_layer_size\n",
    "    \n",
    "    #how many layer sizes there are determines the amount of matrices there will be\n",
    "        #hidden layer stuff\n",
    "        \n",
    "    hsize = len(hls)\n",
    "    hstop = hsize\n",
    "    \n",
    "    #for n hidden layers, there will be 1 input layer, and n hihdden layers, total = len(hidden_layer_size) + 1\n",
    "        #mat stuff\n",
    "        \n",
    "    mat = [0]*(hsize+1)\n",
    "    msize = len(mat)\n",
    "    mstop = msize-1\n",
    "    \n",
    "    #there will be 4 multiplications input layer and n hidden layers\n",
    "        #prod stuff\n",
    "        \n",
    "    prod = [0]*msize\n",
    "    psize = len(prod)\n",
    "    \n",
    "    #there will n-1 errors from the last n-1 hidden layers\n",
    "        #error stuff\n",
    "        \n",
    "    errors = [0]*(psize-1)\n",
    "    estart = psize-2   \n",
    "    esize = len(errors)\n",
    "    \n",
    "    #n-1 deltas from first 3 multiplications and errors (activation function on)\n",
    "        #delta stuff\n",
    "        \n",
    "    deltas = [0]*esize    \n",
    "    \n",
    "    #loop through n+1 layer sizes to create input layer and n hidden layers\n",
    "    \n",
    "    for i in range(hsize+1):\n",
    "\n",
    "        #make sure input layer has size from input and then first hls size\n",
    "        \n",
    "        if(i==0):\n",
    "\n",
    "            mat[i] = (2*np.random.random((my_input_shape,hls[i])))-1\n",
    "            \n",
    "        \n",
    "        #make sure output layer has last size from hls and encode shape\n",
    "        \n",
    "        elif(i==hstop):\n",
    "\n",
    "            mat[i] = 2*np.random.random((hls[-1],target_shape))-1\n",
    "        \n",
    "        else:\n",
    "\n",
    "            mat[i] = 2*np.random.random((hls[i-1],hls[i]))-1\n",
    "\n",
    "    #have the model update for max_iter trials\n",
    "    \n",
    "    for j in range(max_iter):\n",
    "        \n",
    "        #create products\n",
    "        \n",
    "        for i in range(len(mat)):\n",
    "            \n",
    "            if(i==0):\n",
    "                \n",
    "                prod[i] = sigm(np.dot(my_input,mat[i]))\n",
    "               \n",
    "            else:\n",
    "                \n",
    "                prod[i] = sigm(np.dot(prod[i-1],mat[i]))\n",
    "\n",
    "        #this is the model's prediction after its run through entire network\n",
    "        \n",
    "        out = prod[-1]\n",
    "        \n",
    "        # take the encode minus the out (last matrix in prod)\n",
    "        \n",
    "        out_error = target - out\n",
    "        \n",
    "        \n",
    "        #gives updates on model every max_iter/10 trial\n",
    "        \n",
    "        if(verbose):\n",
    "            if(j % (max_iter/10) == 0):\n",
    "                \n",
    "                print(\"Error at iteration \",j,\": \", np.mean(np.abs(out_error)),'=======>',j*100/(max_iter),'% done.')\n",
    "    \n",
    "        #find out_delta using prediction and prediction error with activation function\n",
    "        \n",
    "        out_delta = out_error*sigm(out,deriv=True)*gam\n",
    "        \n",
    "        # find errors for each matrix in prod, goes in reverse order\n",
    "\n",
    "        for i in range(estart, -1, -1):\n",
    "            \n",
    "            forward = estart - i\n",
    "\n",
    "            if(i==estart):\n",
    "\n",
    "                errors[i] = out_delta.dot(mat[i+1].T)\n",
    "            \n",
    "            else:\n",
    "                \n",
    "                errors[i] = np.dot(errors[i+1],(mat[i+1].T))\n",
    "\n",
    "        #find rest of deltas and apply activation function on errors and products\n",
    "        \n",
    "        for i in range(esize):\n",
    "\n",
    "            deltas[i] = errors[i]*sigm(prod[i],deriv=True)*gam\n",
    "            \n",
    "\n",
    "        #Update hidden layers with deltas\n",
    "        \n",
    "        for i in range(msize-1,-1,-1):\n",
    "            \n",
    "            forward = (msize-1) - i\n",
    "\n",
    "            if(i==(msize-1)):\n",
    "                \n",
    "                mat[i] += prod[i-1].T.dot(out_delta)\n",
    "                \n",
    "            elif(i==0):\n",
    "                \n",
    "                mat[i] += my_input.T.dot(deltas[i])\n",
    "            \n",
    "            else:\n",
    "                \n",
    "                mat[i] += prod[i-1].T.dot(deltas[i])\n",
    "\n",
    "    print('Model Accuracy: ', 1 - np.mean(np.abs(out_error)))\n",
    "    plt.plot(y,c='b',label='Data')\n",
    "    plt.plot(np.argmax(out,axis=1),c='r',label='Prediction')\n",
    "    plt.legend()\n",
    "    plt.show()"
   ]
  },
  {
   "cell_type": "code",
   "execution_count": 5,
   "metadata": {
    "ExecuteTime": {
     "end_time": "2020-03-04T19:04:47.156567Z",
     "start_time": "2020-03-04T19:04:44.117690Z"
    }
   },
   "outputs": [
    {
     "name": "stdout",
     "output_type": "stream",
     "text": [
      "Error at iteration  0 :  0.46258873226410335 =======> 0.0 % done.\n",
      "Error at iteration  100 :  0.24185772180762707 =======> 10.0 % done.\n",
      "Error at iteration  200 :  0.2002338232623872 =======> 20.0 % done.\n",
      "Error at iteration  300 :  0.17995440578717448 =======> 30.0 % done.\n",
      "Error at iteration  400 :  0.16695894436911923 =======> 40.0 % done.\n",
      "Error at iteration  500 :  0.157404136204225 =======> 50.0 % done.\n",
      "Error at iteration  600 :  0.14979890731972476 =======> 60.0 % done.\n",
      "Error at iteration  700 :  0.14343793964734694 =======> 70.0 % done.\n",
      "Error at iteration  800 :  0.13794396933686462 =======> 80.0 % done.\n",
      "Error at iteration  900 :  0.13309682558544442 =======> 90.0 % done.\n",
      "Model Accuracy:  0.8712006125797584\n"
     ]
    },
    {
     "data": {
      "image/png": "[encoded data removed]",
      "text/plain": [
       "<Figure size 432x288 with 1 Axes>"
      ]
     },
     "metadata": {
      "needs_background": "light"
     },
     "output_type": "display_data"
    }
   ],
   "source": [
    "data = datasets.load_iris()\n",
    "X = data[\"data\"][:]  # petal width\n",
    "y = (data[\"target\"] )#.astype(np.int).T\n",
    "\n",
    "XS=scale(X)\n",
    "from sklearn.preprocessing import OneHotEncoder\n",
    "encoder = OneHotEncoder(categories='auto')\n",
    "y1hot = encoder.fit_transform(y.reshape(-1,1))\n",
    "\n",
    "neural_network(XS,y1hot.toarray(),y,hidden_layer_size=(200,200,200),max_iter=1000,verbose=True)"
   ]
  },
  {
   "cell_type": "code",
   "execution_count": null,
   "metadata": {},
   "outputs": [],
   "source": []
  },
  {
   "cell_type": "code",
   "execution_count": null,
   "metadata": {},
   "outputs": [],
   "source": []
  }
 ],
 "metadata": {
  "kernelspec": {
   "display_name": "Python 3",
   "language": "python",
   "name": "python3"
  },
  "language_info": {
   "codemirror_mode": {
    "name": "ipython",
    "version": 3
   },
   "file_extension": ".py",
   "mimetype": "text/x-python",
   "name": "python",
   "nbconvert_exporter": "python",
   "pygments_lexer": "ipython3",
   "version": "3.7.3"
  },
  "toc": {
   "base_numbering": 1,
   "nav_menu": {},
   "number_sections": true,
   "sideBar": true,
   "skip_h1_title": false,
   "title_cell": "Table of Contents",
   "title_sidebar": "Contents",
   "toc_cell": false,
   "toc_position": {},
   "toc_section_display": true,
   "toc_window_display": false
  },
  "varInspector": {
   "cols": {
    "lenName": 16,
    "lenType": 16,
    "lenVar": 40
   },
   "kernels_config": {
    "python": {
     "delete_cmd_postfix": "",
     "delete_cmd_prefix": "del ",
     "library": "var_list.py",
     "varRefreshCmd": "print(var_dic_list())"
    },
    "r": {
     "delete_cmd_postfix": ") ",
     "delete_cmd_prefix": "rm(",
     "library": "var_list.r",
     "varRefreshCmd": "cat(var_dic_list()) "
    }
   },
   "types_to_exclude": [
    "module",
    "function",
    "builtin_function_or_method",
    "instance",
    "_Feature"
   ],
   "window_display": false
  }
 },
 "nbformat": 4,
 "nbformat_minor": 2
}
