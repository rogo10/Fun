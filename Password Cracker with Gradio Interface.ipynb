{
 "cells": [
  {
   "cell_type": "code",
   "execution_count": 1,
   "metadata": {},
   "outputs": [],
   "source": [
    "import time as t\n",
    "import string\n",
    "import random\n",
    "import gradio as gr\n",
    "from itertools import product"
   ]
  },
  {
   "cell_type": "markdown",
   "metadata": {},
   "source": [
    "# Password cracking function\n",
    "### Length of password is grabbed\n",
    "### Password is assumed to be combination of upper, lower case and punctuation marks\n",
    "### Will generate random passwords of correct length until password is cracked\n",
    "### Returns the function's password guess, time it took to crack, and number of guesses"
   ]
  },
  {
   "cell_type": "code",
   "execution_count": 2,
   "metadata": {},
   "outputs": [],
   "source": [
    "def crack_password(pw):\n",
    "    pw = str(pw)\n",
    "    time = t.time()\n",
    "    length = len(pw)\n",
    "    available_chars = []\n",
    "    \n",
    "    ##put in lowercase letters\n",
    "    for char in string.ascii_lowercase:\n",
    "        available_chars.append(char)\n",
    "        \n",
    "    ##same for uppercase letters\n",
    "    for char in string.ascii_uppercase:\n",
    "        available_chars.append(char)\n",
    "        \n",
    "    ##digits\n",
    "    for digit in string.digits:\n",
    "        available_chars.append(digit)\n",
    "    \n",
    "    ##punctuation\n",
    "    for punctuation in string.punctuation:\n",
    "        available_chars.append(punctuation)\n",
    "        \n",
    "    ##construction of all possible passwords of size of len(pw)\n",
    "    available_passwords = []\n",
    "    \n",
    "    for item in product(available_chars, repeat=length):\n",
    "        password = item[0]\n",
    "        for i in range(1,length):\n",
    "            password+=item[i]\n",
    "        available_passwords.append(password)\n",
    "    \n",
    "    ##initial guess, pop it from available_passwords\n",
    "    \n",
    "    password_guess = random.choice(available_passwords)\n",
    "    del available_passwords[available_passwords.index(password_guess)]\n",
    "    \n",
    "    guesses = 1\n",
    "    \n",
    "    while(password_guess != pw):\n",
    "        \n",
    "        password_guess = random.choice(available_passwords)\n",
    "        del available_passwords[available_passwords.index(password_guess)]\n",
    "        guesses+=1\n",
    "        \n",
    "        if(guesses%10000==0):\n",
    "            print('Passing guess number '+str(guesses))\n",
    "        \n",
    "    \n",
    "    \n",
    "    \n",
    "    time_it_took = t.time()-time\n",
    "    \n",
    "    \n",
    "        \n",
    "    return 'Your password, '+str(pw)+', took '+str(time_it_took)+' seconds to crack after '+str(guesses)+' guesses.'"
   ]
  },
  {
   "cell_type": "code",
   "execution_count": null,
   "metadata": {},
   "outputs": [],
   "source": [
    "crack_password('ak47')"
   ]
  },
  {
   "cell_type": "code",
   "execution_count": 12,
   "metadata": {},
   "outputs": [
    {
     "name": "stdout",
     "output_type": "stream",
     "text": [
      "Running locally at: http://127.0.0.1:7866/\n"
     ]
    },
    {
     "data": {
      "text/html": [
       "\n",
       "        <iframe\n",
       "            width=\"1000\"\n",
       "            height=\"500\"\n",
       "            src=\"http://127.0.0.1:7866/\"\n",
       "            frameborder=\"0\"\n",
       "            allowfullscreen\n",
       "        ></iframe>\n",
       "        "
      ],
      "text/plain": [
       "<IPython.lib.display.IFrame at 0x1230d4510>"
      ]
     },
     "metadata": {},
     "output_type": "display_data"
    },
    {
     "data": {
      "text/plain": [
       "(<gradio.networking.serve_files_in_background.<locals>.HTTPServer at 0x123e36750>,\n",
       " 'http://127.0.0.1:7866/',\n",
       " None)"
      ]
     },
     "execution_count": 12,
     "metadata": {},
     "output_type": "execute_result"
    }
   ],
   "source": [
    "input_text = gr.inputs.Textbox(lines=2,label='Password',placeholder='Enter test password here...')\n",
    "output_text = gr.outputs.Textbox()\n",
    "gr.Interface(crack_password, input_text, output_text).launch()"
   ]
  },
  {
   "cell_type": "code",
   "execution_count": 14,
   "metadata": {},
   "outputs": [],
   "source": [
    "from itertools import product\n",
    "import string\n",
    "import random"
   ]
  },
  {
   "cell_type": "code",
   "execution_count": 30,
   "metadata": {},
   "outputs": [
    {
     "name": "stdout",
     "output_type": "stream",
     "text": [
      "a\n",
      "b\n",
      "c\n",
      "d\n",
      "e\n",
      "f\n",
      "g\n",
      "h\n",
      "i\n",
      "j\n",
      "k\n",
      "l\n",
      "m\n",
      "n\n",
      "o\n",
      "p\n",
      "q\n",
      "r\n",
      "s\n",
      "t\n",
      "u\n",
      "v\n",
      "w\n",
      "x\n",
      "y\n",
      "z\n",
      "A\n",
      "B\n",
      "C\n",
      "D\n",
      "E\n",
      "F\n",
      "G\n",
      "H\n",
      "I\n",
      "J\n",
      "K\n",
      "L\n",
      "M\n",
      "N\n",
      "O\n",
      "P\n",
      "Q\n",
      "R\n",
      "S\n",
      "T\n",
      "U\n",
      "V\n",
      "W\n",
      "X\n",
      "Y\n",
      "Z\n",
      "0\n",
      "1\n",
      "2\n",
      "3\n",
      "4\n",
      "5\n",
      "6\n",
      "7\n",
      "8\n",
      "9\n",
      "!\n",
      "\"\n",
      "#\n",
      "$\n",
      "%\n",
      "&\n",
      "'\n",
      "(\n",
      ")\n",
      "*\n",
      "+\n",
      ",\n",
      "-\n",
      ".\n",
      "/\n",
      ":\n",
      ";\n",
      "<\n",
      "=\n",
      ">\n",
      "?\n",
      "@\n",
      "[\n",
      "\\\n",
      "]\n",
      "^\n",
      "_\n",
      "`\n",
      "{\n",
      "|\n",
      "}\n",
      "~\n"
     ]
    }
   ],
   "source": [
    "for item in product(available_chars,repeat=1):\n",
    "    myit = item[0]\n",
    "    for i in range(1,1):\n",
    "        myit+=item[i]\n",
    "        \n",
    "    print(myit)"
   ]
  },
  {
   "cell_type": "code",
   "execution_count": 58,
   "metadata": {},
   "outputs": [
    {
     "data": {
      "text/plain": [
       "(2, [1, 3])"
      ]
     },
     "execution_count": 58,
     "metadata": {},
     "output_type": "execute_result"
    }
   ],
   "source": [
    "dum = [1,2,3]\n",
    "myrando = random.choice(dum)\n",
    "del dum[dum.index(myrando)]\n",
    "myrando,dum"
   ]
  },
  {
   "cell_type": "code",
   "execution_count": null,
   "metadata": {},
   "outputs": [],
   "source": []
  }
 ],
 "metadata": {
  "kernelspec": {
   "display_name": "Python 3",
   "language": "python",
   "name": "python3"
  },
  "language_info": {
   "codemirror_mode": {
    "name": "ipython",
    "version": 3
   },
   "file_extension": ".py",
   "mimetype": "text/x-python",
   "name": "python",
   "nbconvert_exporter": "python",
   "pygments_lexer": "ipython3",
   "version": "3.7.4"
  }
 },
 "nbformat": 4,
 "nbformat_minor": 2
}
