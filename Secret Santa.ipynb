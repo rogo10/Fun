{
 "cells": [
  {
   "cell_type": "code",
   "execution_count": 1,
   "metadata": {},
   "outputs": [],
   "source": [
    "import random\n",
    "import smtplib\n",
    "import re"
   ]
  },
  {
   "cell_type": "code",
   "execution_count": 2,
   "metadata": {},
   "outputs": [],
   "source": [
    "###Final Draft of what worked\n",
    "###This function will be nested in secret_santa()\n",
    "\n",
    "\n",
    "###Takes in dictionary of form\n",
    "###names = {'name':'email', ...}\n",
    "###Makes sure person A does not get person A\n",
    "###...except if all that's left is person A from names...this is caught by ValueError\n",
    "\n",
    "def pick(names):\n",
    "    pairings = []\n",
    "    length = len(names)\n",
    "    givers = dict(names)    ###this and givers are copies. running dicts of who is left after pairing\n",
    "    givees = dict(names)\n",
    "\n",
    "    for _ in names:\n",
    "        \n",
    "        give = random.choice(list(givers.keys()))    ###reset the giver and receiver\n",
    "        rec = random.choice(list(givees.keys()))\n",
    "\n",
    "        while(give == rec):                      ###if giver = receiver then choose new receiver at random\n",
    "            if(len(givers) == 1):\n",
    "                raise ValueError('Unsuccessful in picking names. The last person has themself for secret santa. Please try again')\n",
    "            rec = random.choice(list(givees.keys()))\n",
    "        \n",
    "        pairings.append([give, names[give], ' has ', rec, names[rec], 'for secret santa!'])\n",
    "        givers.pop(give)      ###update running dicts\n",
    "        givees.pop(rec)\n",
    "\n",
    "    \n",
    "    \n",
    "    return pairings"
   ]
  },
  {
   "cell_type": "code",
   "execution_count": 3,
   "metadata": {},
   "outputs": [],
   "source": [
    "###Putting it all together\n",
    "###pick2 with dictionary of emails\n",
    "###along with sending the actual emails for all participants\n",
    "\n",
    "def clean_message(message):\n",
    "    \n",
    "    message = message.replace(']','').replace('[','').replace(\"'\",\"\").replace(',',' ')\n",
    "    \n",
    "    emails = re.findall(r\"[\\.\\w\\d]+@[\\w\\d]+\\.[\\w]+\",message)\n",
    "       \n",
    "    message = message.replace(emails[0],'').replace(emails[1],'').replace('  ',' ')\n",
    "    \n",
    "    return message\n",
    "\n",
    "def secret_santa(names):\n",
    "    \n",
    "    pairings = pick(names)    ###call pick2 to make pairing assignments\n",
    "\n",
    "    mail = smtplib.SMTP(host='smtp.gmail.com',port=587)    ###connect host using port number (gmail)\n",
    "\n",
    "    mail.ehlo()         ###not necessary but identifies yourself to ESMTP server\n",
    "\n",
    "    mail.starttls()      ###all smtp commands after will be encrypted\n",
    "    \n",
    "    mail.ehlo()         ###not necessary but identifies yourself to ESMTP server\n",
    "    \n",
    "    mail.login('your_gmail','password')    ###log in to email(username, password)\n",
    "    \n",
    "    for i in range(len(pairings)):\n",
    "        giver_email = str(pairings[i][1])      ###takes giver's email from pick2\n",
    "        text = str(pairings[i])                ###whole message\n",
    "        text = clean_message(text)\n",
    "        message = 'Subject: {}\\n\\n{}'.format('Secret Santa 2020', text)         ###formats email with subject header\n",
    "        mail.sendmail('your.email@gmail.com', giver_email, message)         ###sends email(from,to,message)\n",
    "        \n",
    "    mail.close()   ###closes connection\n",
    "    \n",
    "    return 'Emails successfully sent'"
   ]
  },
  {
   "cell_type": "code",
   "execution_count": 5,
   "metadata": {},
   "outputs": [
    {
     "data": {
      "text/plain": [
       "'Emails successfully sent'"
      ]
     },
     "execution_count": 5,
     "metadata": {},
     "output_type": "execute_result"
    }
   ],
   "source": [
    "names = {\"Name 1\": 'name_1_email',\n",
    "         \"Name 2\": 'name_2_email',\n",
    "         ....}  ###add people and their emails in dictionary here\n",
    "secret_santa(names)"
   ]
  },
  {
   "cell_type": "code",
   "execution_count": null,
   "metadata": {},
   "outputs": [],
   "source": []
  }
 ],
 "metadata": {
  "kernelspec": {
   "display_name": "Python 3",
   "language": "python",
   "name": "python3"
  },
  "language_info": {
   "codemirror_mode": {
    "name": "ipython",
    "version": 3
   },
   "file_extension": ".py",
   "mimetype": "text/x-python",
   "name": "python",
   "nbconvert_exporter": "python",
   "pygments_lexer": "ipython3",
   "version": "3.7.4"
  }
 },
 "nbformat": 4,
 "nbformat_minor": 2
}
