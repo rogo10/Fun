{
 "cells": [
  {
   "cell_type": "code",
   "execution_count": 10,
   "metadata": {
    "ExecuteTime": {
     "end_time": "2020-02-07T20:25:18.609624Z",
     "start_time": "2020-02-07T20:25:18.604131Z"
    }
   },
   "outputs": [],
   "source": [
    "import random\n",
    "import smtplib\n",
    "import re"
   ]
  },
  {
   "cell_type": "code",
   "execution_count": 11,
   "metadata": {
    "ExecuteTime": {
     "end_time": "2020-02-07T20:25:18.623443Z",
     "start_time": "2020-02-07T20:25:18.611653Z"
    }
   },
   "outputs": [],
   "source": [
    "###Final Draft of what worked\n",
    "###This function will be nested in secret_santa()\n",
    "\n",
    "\n",
    "###Takes in dictionary of form\n",
    "###names = {'name':'email', ...}\n",
    "###Makes sure person A does not get person A\n",
    "###...except if all that's left is person A from names...this is caught by ValueError\n",
    "\n",
    "def pick(names):\n",
    "    pairings = []\n",
    "    length = len(names)\n",
    "    givers = dict(names)    ###this and givers are copies. running dicts of who is left after pairing\n",
    "    givees = dict(names)\n",
    "\n",
    "    for _ in names:\n",
    "        \n",
    "        give = random.choice(list(givers.keys()))    ###reset the giver and receiver\n",
    "        rec = random.choice(list(givees.keys()))\n",
    "\n",
    "        while(give == rec):                      ###if giver = receiver then choose new receiver at random\n",
    "            if(len(givers) == 1):\n",
    "                raise ValueError('Unsuccessful in picking names. The last person has themself for secret santa. Please try again')\n",
    "            rec = random.choice(list(givees.keys()))\n",
    "        \n",
    "        pairings.append([give, names[give], ' has ', rec, names[rec], 'for secret santa!'])\n",
    "        givers.pop(give)      ###update running dicts\n",
    "        givees.pop(rec)\n",
    "\n",
    "    \n",
    "    \n",
    "    return pairings\n"
   ]
  },
  {
   "cell_type": "code",
   "execution_count": 12,
   "metadata": {
    "ExecuteTime": {
     "end_time": "2020-02-07T20:25:18.638319Z",
     "start_time": "2020-02-07T20:25:18.625440Z"
    }
   },
   "outputs": [],
   "source": [
    "###Putting it all together\n",
    "###pick2 with dictionary of emails\n",
    "###along with sending the actual emails for all participants\n",
    "\n",
    "def clean_message(message):\n",
    "    \n",
    "    message = message.replace(']','').replace('[','').replace(\"'\",\"\").replace(',',' ')\n",
    "    \n",
    "    emails = re.findall(r\"[\\.\\w\\d]+@[\\w\\d]+\\.[\\w]+\",message)\n",
    "       \n",
    "    message = message.replace(emails[0],'').replace(emails[1],'').replace('  ',' ')\n",
    "    \n",
    "    return message\n",
    "\n",
    "def secret_santa(names):\n",
    "    \n",
    "    pairings = pick(names)    ###call pick2 to make pairing assignments\n",
    "\n",
    "    mail = smtplib.SMTP(host='smtp.gmail.com',port=587)    ###connect host using port number (gmail)\n",
    "\n",
    "    mail.ehlo()         ###not necessary but identifies yourself to ESMTP server\n",
    "\n",
    "    mail.starttls()      ###all smtp commands after will be encrypted\n",
    "    \n",
    "    mail.ehlo()         ###not necessary but identifies yourself to ESMTP server\n",
    "    \n",
    "    mail.login('your.email@gmail.com','password')    ###log in to email(username, password)\n",
    "    \n",
    "    for i in range(len(pairings)):\n",
    "        giver_email = str(pairings[i][1])      ###takes giver's email from pick2\n",
    "        text = str(pairings[i])                ###whole message\n",
    "        text = clean_message(text)\n",
    "        message = 'Subject: {}\\n\\n{}'.format('Secret Santa 2020', text)         ###formats email with subject header\n",
    "        mail.sendmail('your.email@gmail.com', giver_email, message)         ###sends email(from,to,message)\n",
    "        \n",
    "    mail.close()   ###closes connection\n",
    "    \n",
    "    return 'Emails successfully sent'"
   ]
  },
  {
   "cell_type": "code",
   "execution_count": 13,
   "metadata": {
    "ExecuteTime": {
     "end_time": "2020-02-07T20:25:19.178445Z",
     "start_time": "2020-02-07T20:25:18.640330Z"
    },
    "collapsed": true
   },
   "outputs": [
    {
     "ename": "SMTPAuthenticationError",
     "evalue": "(535, b'5.7.8 Username and Password not accepted. Learn more at\\n5.7.8  https://support.google.com/mail/?p=BadCredentials h20sm1011116qkk.64 - gsmtp')",
     "output_type": "error",
     "traceback": [
      "\u001b[1;31m---------------------------------------------------------------------------\u001b[0m",
      "\u001b[1;31mSMTPAuthenticationError\u001b[0m                   Traceback (most recent call last)",
      "\u001b[1;32m<ipython-input-13-6e8fb1d03cab>\u001b[0m in \u001b[0;36m<module>\u001b[1;34m\u001b[0m\n\u001b[0;32m      1\u001b[0m \u001b[0mnames\u001b[0m \u001b[1;33m=\u001b[0m \u001b[1;33m{\u001b[0m\u001b[1;34m'Sean'\u001b[0m\u001b[1;33m:\u001b[0m\u001b[1;34m'rogo.sean@gmail.com'\u001b[0m\u001b[1;33m,\u001b[0m \u001b[1;34m'Sean2'\u001b[0m\u001b[1;33m:\u001b[0m\u001b[1;34m'smr6743@uncw.edu'\u001b[0m\u001b[1;33m}\u001b[0m\u001b[1;33m\u001b[0m\u001b[1;33m\u001b[0m\u001b[0m\n\u001b[1;32m----> 2\u001b[1;33m \u001b[0msecret_santa\u001b[0m\u001b[1;33m(\u001b[0m\u001b[0mnames\u001b[0m\u001b[1;33m)\u001b[0m\u001b[1;33m\u001b[0m\u001b[1;33m\u001b[0m\u001b[0m\n\u001b[0m",
      "\u001b[1;32m<ipython-input-12-697696f49aaf>\u001b[0m in \u001b[0;36msecret_santa\u001b[1;34m(names)\u001b[0m\n\u001b[0;32m     25\u001b[0m     \u001b[0mmail\u001b[0m\u001b[1;33m.\u001b[0m\u001b[0mehlo\u001b[0m\u001b[1;33m(\u001b[0m\u001b[1;33m)\u001b[0m         \u001b[1;31m###not necessary but identifies yourself to ESMTP server\u001b[0m\u001b[1;33m\u001b[0m\u001b[1;33m\u001b[0m\u001b[0m\n\u001b[0;32m     26\u001b[0m \u001b[1;33m\u001b[0m\u001b[0m\n\u001b[1;32m---> 27\u001b[1;33m     \u001b[0mmail\u001b[0m\u001b[1;33m.\u001b[0m\u001b[0mlogin\u001b[0m\u001b[1;33m(\u001b[0m\u001b[1;34m'rogo.sean@gmail.com'\u001b[0m\u001b[1;33m,\u001b[0m\u001b[1;34m'Wabash19!'\u001b[0m\u001b[1;33m)\u001b[0m    \u001b[1;31m###log in to email(username, password)\u001b[0m\u001b[1;33m\u001b[0m\u001b[1;33m\u001b[0m\u001b[0m\n\u001b[0m\u001b[0;32m     28\u001b[0m \u001b[1;33m\u001b[0m\u001b[0m\n\u001b[0;32m     29\u001b[0m     \u001b[1;32mfor\u001b[0m \u001b[0mi\u001b[0m \u001b[1;32min\u001b[0m \u001b[0mrange\u001b[0m\u001b[1;33m(\u001b[0m\u001b[0mlen\u001b[0m\u001b[1;33m(\u001b[0m\u001b[0mpairings\u001b[0m\u001b[1;33m)\u001b[0m\u001b[1;33m)\u001b[0m\u001b[1;33m:\u001b[0m\u001b[1;33m\u001b[0m\u001b[1;33m\u001b[0m\u001b[0m\n",
      "\u001b[1;32mC:\\ProgramData\\Anaconda3\\lib\\smtplib.py\u001b[0m in \u001b[0;36mlogin\u001b[1;34m(self, user, password, initial_response_ok)\u001b[0m\n\u001b[0;32m    728\u001b[0m \u001b[1;33m\u001b[0m\u001b[0m\n\u001b[0;32m    729\u001b[0m         \u001b[1;31m# We could not login successfully.  Return result of last attempt.\u001b[0m\u001b[1;33m\u001b[0m\u001b[1;33m\u001b[0m\u001b[1;33m\u001b[0m\u001b[0m\n\u001b[1;32m--> 730\u001b[1;33m         \u001b[1;32mraise\u001b[0m \u001b[0mlast_exception\u001b[0m\u001b[1;33m\u001b[0m\u001b[1;33m\u001b[0m\u001b[0m\n\u001b[0m\u001b[0;32m    731\u001b[0m \u001b[1;33m\u001b[0m\u001b[0m\n\u001b[0;32m    732\u001b[0m     \u001b[1;32mdef\u001b[0m \u001b[0mstarttls\u001b[0m\u001b[1;33m(\u001b[0m\u001b[0mself\u001b[0m\u001b[1;33m,\u001b[0m \u001b[0mkeyfile\u001b[0m\u001b[1;33m=\u001b[0m\u001b[1;32mNone\u001b[0m\u001b[1;33m,\u001b[0m \u001b[0mcertfile\u001b[0m\u001b[1;33m=\u001b[0m\u001b[1;32mNone\u001b[0m\u001b[1;33m,\u001b[0m \u001b[0mcontext\u001b[0m\u001b[1;33m=\u001b[0m\u001b[1;32mNone\u001b[0m\u001b[1;33m)\u001b[0m\u001b[1;33m:\u001b[0m\u001b[1;33m\u001b[0m\u001b[1;33m\u001b[0m\u001b[0m\n",
      "\u001b[1;32mC:\\ProgramData\\Anaconda3\\lib\\smtplib.py\u001b[0m in \u001b[0;36mlogin\u001b[1;34m(self, user, password, initial_response_ok)\u001b[0m\n\u001b[0;32m    719\u001b[0m                 (code, resp) = self.auth(\n\u001b[0;32m    720\u001b[0m                     \u001b[0mauthmethod\u001b[0m\u001b[1;33m,\u001b[0m \u001b[0mgetattr\u001b[0m\u001b[1;33m(\u001b[0m\u001b[0mself\u001b[0m\u001b[1;33m,\u001b[0m \u001b[0mmethod_name\u001b[0m\u001b[1;33m)\u001b[0m\u001b[1;33m,\u001b[0m\u001b[1;33m\u001b[0m\u001b[1;33m\u001b[0m\u001b[0m\n\u001b[1;32m--> 721\u001b[1;33m                     initial_response_ok=initial_response_ok)\n\u001b[0m\u001b[0;32m    722\u001b[0m                 \u001b[1;31m# 235 == 'Authentication successful'\u001b[0m\u001b[1;33m\u001b[0m\u001b[1;33m\u001b[0m\u001b[1;33m\u001b[0m\u001b[0m\n\u001b[0;32m    723\u001b[0m                 \u001b[1;31m# 503 == 'Error: already authenticated'\u001b[0m\u001b[1;33m\u001b[0m\u001b[1;33m\u001b[0m\u001b[1;33m\u001b[0m\u001b[0m\n",
      "\u001b[1;32mC:\\ProgramData\\Anaconda3\\lib\\smtplib.py\u001b[0m in \u001b[0;36mauth\u001b[1;34m(self, mechanism, authobject, initial_response_ok)\u001b[0m\n\u001b[0;32m    640\u001b[0m         \u001b[1;32mif\u001b[0m \u001b[0mcode\u001b[0m \u001b[1;32min\u001b[0m \u001b[1;33m(\u001b[0m\u001b[1;36m235\u001b[0m\u001b[1;33m,\u001b[0m \u001b[1;36m503\u001b[0m\u001b[1;33m)\u001b[0m\u001b[1;33m:\u001b[0m\u001b[1;33m\u001b[0m\u001b[1;33m\u001b[0m\u001b[0m\n\u001b[0;32m    641\u001b[0m             \u001b[1;32mreturn\u001b[0m \u001b[1;33m(\u001b[0m\u001b[0mcode\u001b[0m\u001b[1;33m,\u001b[0m \u001b[0mresp\u001b[0m\u001b[1;33m)\u001b[0m\u001b[1;33m\u001b[0m\u001b[1;33m\u001b[0m\u001b[0m\n\u001b[1;32m--> 642\u001b[1;33m         \u001b[1;32mraise\u001b[0m \u001b[0mSMTPAuthenticationError\u001b[0m\u001b[1;33m(\u001b[0m\u001b[0mcode\u001b[0m\u001b[1;33m,\u001b[0m \u001b[0mresp\u001b[0m\u001b[1;33m)\u001b[0m\u001b[1;33m\u001b[0m\u001b[1;33m\u001b[0m\u001b[0m\n\u001b[0m\u001b[0;32m    643\u001b[0m \u001b[1;33m\u001b[0m\u001b[0m\n\u001b[0;32m    644\u001b[0m     \u001b[1;32mdef\u001b[0m \u001b[0mauth_cram_md5\u001b[0m\u001b[1;33m(\u001b[0m\u001b[0mself\u001b[0m\u001b[1;33m,\u001b[0m \u001b[0mchallenge\u001b[0m\u001b[1;33m=\u001b[0m\u001b[1;32mNone\u001b[0m\u001b[1;33m)\u001b[0m\u001b[1;33m:\u001b[0m\u001b[1;33m\u001b[0m\u001b[1;33m\u001b[0m\u001b[0m\n",
      "\u001b[1;31mSMTPAuthenticationError\u001b[0m: (535, b'5.7.8 Username and Password not accepted. Learn more at\\n5.7.8  https://support.google.com/mail/?p=BadCredentials h20sm1011116qkk.64 - gsmtp')"
     ]
    }
   ],
   "source": [
    "names = {'Name 1':\"Name 1's email\", \"Name 2\":\"Name 2's email\"}  ###add people and their emails in dictionary here\n",
    "secret_santa(names)"
   ]
  },
  {
   "cell_type": "code",
   "execution_count": null,
   "metadata": {},
   "outputs": [],
   "source": []
  }
 ],
 "metadata": {
  "kernelspec": {
   "display_name": "Python 3",
   "language": "python",
   "name": "python3"
  },
  "language_info": {
   "codemirror_mode": {
    "name": "ipython",
    "version": 3
   },
   "file_extension": ".py",
   "mimetype": "text/x-python",
   "name": "python",
   "nbconvert_exporter": "python",
   "pygments_lexer": "ipython3",
   "version": "3.7.3"
  },
  "toc": {
   "base_numbering": 1,
   "nav_menu": {},
   "number_sections": true,
   "sideBar": true,
   "skip_h1_title": false,
   "title_cell": "Table of Contents",
   "title_sidebar": "Contents",
   "toc_cell": false,
   "toc_position": {},
   "toc_section_display": true,
   "toc_window_display": false
  },
  "varInspector": {
   "cols": {
    "lenName": 16,
    "lenType": 16,
    "lenVar": 40
   },
   "kernels_config": {
    "python": {
     "delete_cmd_postfix": "",
     "delete_cmd_prefix": "del ",
     "library": "var_list.py",
     "varRefreshCmd": "print(var_dic_list())"
    },
    "r": {
     "delete_cmd_postfix": ") ",
     "delete_cmd_prefix": "rm(",
     "library": "var_list.r",
     "varRefreshCmd": "cat(var_dic_list()) "
    }
   },
   "types_to_exclude": [
    "module",
    "function",
    "builtin_function_or_method",
    "instance",
    "_Feature"
   ],
   "window_display": false
  }
 },
 "nbformat": 4,
 "nbformat_minor": 2
}
